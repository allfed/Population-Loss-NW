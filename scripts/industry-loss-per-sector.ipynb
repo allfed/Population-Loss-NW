{
 "cells": [
  {
   "cell_type": "markdown",
   "metadata": {},
   "source": [
    "# Map loss of total industry to loss per sector"
   ]
  },
  {
   "cell_type": "code",
   "execution_count": 1,
   "metadata": {},
   "outputs": [],
   "source": [
    "%load_ext autoreload\n",
    "%autoreload 2\n",
    "\n",
    "import sys\n",
    "sys.path.append(\"../src\")\n",
    "from sectors import calculate_sector_losses, load_fertilizer_production_by_nutrient_type_npk"
   ]
  },
  {
   "cell_type": "markdown",
   "metadata": {},
   "source": [
    "We first define a scenario with a % of total industry loss per country. These numbers can be derived from the `master.ipynb` and `HEMP.ipynb` notebooks. Then we map these numbers to the sectoral loss using data for the per-country production of each sector. "
   ]
  },
  {
   "cell_type": "code",
   "execution_count": 2,
   "metadata": {},
   "outputs": [],
   "source": [
    "# Define total industry loss per country in %\n",
    "total_industry_loss = {\n",
    "    \"USA\": 70,\n",
    "    \"CAN\": 70,\n",
    "    \"MEX\": 70,\n",
    "    \"RUS\": 70,\n",
    "    \"GBR\": 70,\n",
    "    \"FRA\": 70,\n",
    "    \"DEU\": 70,\n",
    "}"
   ]
  },
  {
   "cell_type": "code",
   "execution_count": 3,
   "metadata": {},
   "outputs": [
    {
     "name": "stdout",
     "output_type": "stream",
     "text": [
      "\n",
      "Losses per sector for the whole world:\n",
      "----------------------------------------\n",
      "Sector               Loss (%)  \n",
      "----------------------------------------\n",
      "N fertilizer         17.66     \n",
      "P fertilizer         14.22     \n",
      "K fertilizer         40.97     \n",
      "Pesticide            18.67     \n",
      "----------------------------------------\n"
     ]
    }
   ],
   "source": [
    "sector_losses = calculate_sector_losses(total_industry_loss)"
   ]
  }
 ],
 "metadata": {
  "kernelspec": {
   "display_name": "Population-Loss-NW",
   "language": "python",
   "name": "python3"
  },
  "language_info": {
   "codemirror_mode": {
    "name": "ipython",
    "version": 3
   },
   "file_extension": ".py",
   "mimetype": "text/x-python",
   "name": "python",
   "nbconvert_exporter": "python",
   "pygments_lexer": "ipython3",
   "version": "3.12.3"
  }
 },
 "nbformat": 4,
 "nbformat_minor": 2
}
