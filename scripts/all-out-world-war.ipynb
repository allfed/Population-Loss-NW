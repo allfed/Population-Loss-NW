{
 "cells": [
  {
   "cell_type": "markdown",
   "metadata": {},
   "source": [
    "# All-out world war scenario"
   ]
  },
  {
   "cell_type": "code",
   "execution_count": 1,
   "metadata": {},
   "outputs": [],
   "source": [
    "%load_ext autoreload\n",
    "%autoreload 2\n",
    "\n",
    "import sys\n",
    "sys.path.append(\"../src\")\n",
    "from main import Country, plot_static_target_map\n",
    "import copy\n",
    "import numpy as np\n",
    "import pandas as pd\n",
    "import matplotlib.pyplot as plt\n",
    "\n",
    "plt.style.use(\"https://raw.githubusercontent.com/allfed/ALLFED-matplotlib-style-sheet/main/ALLFED.mplstyle\")"
   ]
  },
  {
   "cell_type": "code",
   "execution_count": null,
   "metadata": {},
   "outputs": [],
   "source": [
    "country_obj = Country(\n",
    "    \"Russia\",\n",
    "    landscan_year=2022,\n",
    "    degrade=True,\n",
    "    degrade_factor=3,\n",
    "    burn_radius_prescription=\"default\",\n",
    "    kill_radius_prescription=\"default\",\n",
    ")\n",
    "\n",
    "country_obj.attack_max_fatality(\n",
    "    arsenal=280 * [100] + 300 * [90], include_injuries=False, non_overlapping=False\n",
    ")\n",
    "\n",
    "country_obj.print_diagnostic_info()"
   ]
  },
  {
   "cell_type": "code",
   "execution_count": null,
   "metadata": {},
   "outputs": [],
   "source": [
    "country_obj = Country(\n",
    "    \"United States of America\",\n",
    "    landscan_year=2022,\n",
    "    degrade=True,\n",
    "    degrade_factor=3,\n",
    "    burn_radius_prescription=\"default\",\n",
    "    kill_radius_prescription=\"default\",\n",
    "    avoid_industrial_areas=True,\n",
    ")\n",
    "\n",
    "country_obj.attack_max_fatality(\n",
    "    arsenal=125 * [250] + 280 * [100] + 300 * [90],\n",
    "    include_injuries=False,\n",
    "    non_overlapping=False,\n",
    ")\n",
    "\n",
    "country_obj.print_diagnostic_info()"
   ]
  },
  {
   "cell_type": "code",
   "execution_count": 3,
   "metadata": {},
   "outputs": [
    {
     "name": "stdout",
     "output_type": "stream",
     "text": [
      "Total fatalities: 9914974 (43.1%)\n",
      "Total destroyed industrial area: 30.0%\n",
      "Soot emissions: 5.9 Tg\n"
     ]
    }
   ],
   "source": [
    "country_obj = Country(\n",
    "    \"Taiwan\",\n",
    "    landscan_year=2022,\n",
    "    degrade=True,\n",
    "    degrade_factor=3,\n",
    "    burn_radius_prescription=\"default\",\n",
    "    kill_radius_prescription=\"default\",\n",
    ")\n",
    "\n",
    "country_obj.attack_max_fatality(\n",
    "    arsenal=25 * [250], include_injuries=False, non_overlapping=False\n",
    ")\n",
    "\n",
    "country_obj.print_diagnostic_info()"
   ]
  },
  {
   "cell_type": "code",
   "execution_count": 4,
   "metadata": {},
   "outputs": [
    {
     "name": "stdout",
     "output_type": "stream",
     "text": [
      "Total fatalities: 16840730 (15.8%)\n",
      "Total destroyed industrial area: 26.2%\n",
      "Soot emissions: 9.4 Tg\n"
     ]
    }
   ],
   "source": [
    "country_obj = Country(\n",
    "    \"Philippines\",\n",
    "    landscan_year=2022,\n",
    "    degrade=True,\n",
    "    degrade_factor=3,\n",
    "    burn_radius_prescription=\"default\",\n",
    "    kill_radius_prescription=\"default\",\n",
    ")\n",
    "\n",
    "country_obj.attack_max_fatality(\n",
    "    arsenal=20 * [250], include_injuries=False, non_overlapping=False\n",
    ")\n",
    "\n",
    "country_obj.print_diagnostic_info()"
   ]
  },
  {
   "cell_type": "code",
   "execution_count": 5,
   "metadata": {},
   "outputs": [
    {
     "name": "stdout",
     "output_type": "stream",
     "text": [
      "Total fatalities: 26330565 (21.6%)\n",
      "Total destroyed industrial area: 9.8%\n",
      "Soot emissions: 12.9 Tg\n"
     ]
    }
   ],
   "source": [
    "country_obj = Country(\n",
    "    \"Japan\",\n",
    "    landscan_year=2022,\n",
    "    degrade=True,\n",
    "    degrade_factor=3,\n",
    "    burn_radius_prescription=\"default\",\n",
    "    kill_radius_prescription=\"default\",\n",
    ")\n",
    "\n",
    "country_obj.attack_max_fatality(\n",
    "    arsenal=50 * [250], include_injuries=False, non_overlapping=False\n",
    ")\n",
    "\n",
    "country_obj.print_diagnostic_info()"
   ]
  },
  {
   "cell_type": "code",
   "execution_count": null,
   "metadata": {},
   "outputs": [],
   "source": [
    "country_obj = Country(\n",
    "    \"Australia\",\n",
    "    landscan_year=2022,\n",
    "    degrade=True,\n",
    "    degrade_factor=3,\n",
    "    burn_radius_prescription=\"default\",\n",
    "    kill_radius_prescription=\"default\",\n",
    ")\n",
    "\n",
    "country_obj.attack_max_fatality(\n",
    "    arsenal=25 * [250], include_injuries=False, non_overlapping=False\n",
    ")\n",
    "\n",
    "country_obj.print_diagnostic_info()"
   ]
  },
  {
   "cell_type": "code",
   "execution_count": 6,
   "metadata": {},
   "outputs": [],
   "source": [
    "country_obj = Country(\n",
    "    \"New Zealand\",\n",
    "    landscan_year=2022,\n",
    "    degrade=True,\n",
    "    degrade_factor=3,\n",
    "    burn_radius_prescription=\"default\",\n",
    "    kill_radius_prescription=\"default\",\n",
    ")\n",
    "\n",
    "country_obj.attack_max_fatality(\n",
    "    arsenal=5 * [250], include_injuries=False, non_overlapping=False\n",
    ")\n",
    "\n",
    "country_obj.print_diagnostic_info()"
   ]
  },
  {
   "cell_type": "code",
   "execution_count": 2,
   "metadata": {},
   "outputs": [
    {
     "name": "stdout",
     "output_type": "stream",
     "text": [
      "Total fatalities: 4969430 (19.5%)\n",
      "Total destroyed industrial area: 18.8%\n",
      "Soot emissions: 2.2 Tg\n"
     ]
    }
   ],
   "source": [
    "country_obj = Country(\n",
    "    \"North Korea\",\n",
    "    landscan_year=2022,\n",
    "    degrade=True,\n",
    "    degrade_factor=3,\n",
    "    burn_radius_prescription=\"default\",\n",
    "    kill_radius_prescription=\"default\",\n",
    ")\n",
    "\n",
    "country_obj.attack_max_fatality(\n",
    "    arsenal=20 * [90], include_injuries=False, non_overlapping=False\n",
    ")\n",
    "\n",
    "country_obj.print_diagnostic_info()"
   ]
  },
  {
   "cell_type": "code",
   "execution_count": 3,
   "metadata": {},
   "outputs": [],
   "source": [
    "country_obj = Country(\n",
    "    \"South Korea\",\n",
    "    landscan_year=2022,\n",
    "    degrade=True,\n",
    "    degrade_factor=3,\n",
    "    burn_radius_prescription=\"default\",\n",
    "    kill_radius_prescription=\"default\",\n",
    ")\n",
    "\n",
    "country_obj.attack_max_fatality(\n",
    "    arsenal=50 * [15], include_injuries=False, non_overlapping=False\n",
    ")\n",
    "\n",
    "country_obj.print_diagnostic_info()"
   ]
  },
  {
   "cell_type": "code",
   "execution_count": null,
   "metadata": {},
   "outputs": [],
   "source": [
    "country_obj = Country(\n",
    "    \"Pakistan\",\n",
    "    landscan_year=2022,\n",
    "    degrade=True,\n",
    "    degrade_factor=3,\n",
    "    burn_radius_prescription=\"default\",\n",
    "    kill_radius_prescription=\"default\",\n",
    ")\n",
    "\n",
    "country_obj.attack_max_fatality(\n",
    "    arsenal=120 * [15], include_injuries=False, non_overlapping=False\n",
    ")\n",
    "\n",
    "country_obj.print_diagnostic_info()"
   ]
  },
  {
   "cell_type": "code",
   "execution_count": null,
   "metadata": {},
   "outputs": [],
   "source": [
    "country_obj = Country(\n",
    "    \"Iran\",\n",
    "    landscan_year=2022,\n",
    "    degrade=True,\n",
    "    degrade_factor=3,\n",
    "    burn_radius_prescription=\"default\",\n",
    "    kill_radius_prescription=\"default\",\n",
    ")\n",
    "\n",
    "country_obj.attack_max_fatality(\n",
    "    arsenal=50 * [50], include_injuries=False, non_overlapping=False\n",
    ")\n",
    "\n",
    "country_obj.print_diagnostic_info()"
   ]
  },
  {
   "cell_type": "code",
   "execution_count": null,
   "metadata": {},
   "outputs": [],
   "source": []
  }
 ],
 "metadata": {
  "kernelspec": {
   "display_name": "Population-Loss-NW",
   "language": "python",
   "name": "python3"
  },
  "language_info": {
   "codemirror_mode": {
    "name": "ipython",
    "version": 3
   },
   "file_extension": ".py",
   "mimetype": "text/x-python",
   "name": "python",
   "nbconvert_exporter": "python",
   "pygments_lexer": "ipython3",
   "version": "3.12.3"
  }
 },
 "nbformat": 4,
 "nbformat_minor": 2
}
