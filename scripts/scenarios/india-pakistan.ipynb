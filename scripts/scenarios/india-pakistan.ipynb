{
 "cells": [
  {
   "cell_type": "markdown",
   "metadata": {},
   "source": [
    "# India-Pakistan scenario"
   ]
  },
  {
   "cell_type": "code",
   "execution_count": null,
   "metadata": {},
   "outputs": [],
   "source": [
    "%load_ext autoreload\n",
    "%autoreload 2\n",
    "\n",
    "import sys\n",
    "sys.path.append(\"../src\")\n",
    "from main import Country, plot_static_target_map\n",
    "import copy\n",
    "import numpy as np\n",
    "import pandas as pd\n",
    "import matplotlib.pyplot as plt\n",
    "\n",
    "plt.style.use(\"https://raw.githubusercontent.com/allfed/ALLFED-matplotlib-style-sheet/main/ALLFED.mplstyle\")"
   ]
  },
  {
   "cell_type": "code",
   "execution_count": null,
   "metadata": {},
   "outputs": [],
   "source": [
    "pakistan = Country(\n",
    "    \"Pakistan\",\n",
    "    landscan_year=2022,\n",
    "    degrade=False,\n",
    "    degrade_factor=1,\n",
    "    burn_radius_prescription=\"default\",\n",
    "    kill_radius_prescription=\"default\",\n",
    ")\n",
    "\n",
    "pakistan.attack_max_fatality(\n",
    "    arsenal=80 * [15], include_injuries=False, non_overlapping=False\n",
    ")\n",
    "\n",
    "pakistan.print_diagnostic_info()"
   ]
  },
  {
   "cell_type": "code",
   "execution_count": null,
   "metadata": {},
   "outputs": [],
   "source": [
    "india = Country(\n",
    "    \"India\",\n",
    "    landscan_year=2022,\n",
    "    degrade=False,\n",
    "    degrade_factor=1,\n",
    "    burn_radius_prescription=\"default\",\n",
    "    kill_radius_prescription=\"default\",\n",
    ")\n",
    "\n",
    "india.attack_max_fatality(\n",
    "    arsenal=120 * [15], include_injuries=False, non_overlapping=False\n",
    ")\n",
    "\n",
    "india.print_diagnostic_info()"
   ]
  },
  {
   "cell_type": "code",
   "execution_count": null,
   "metadata": {},
   "outputs": [],
   "source": [
    "plot_static_target_map(target_list=[pakistan.targets, india.targets], yields=[pakistan.yields, india.yields], region=\"South Asia\")"
   ]
  }
 ],
 "metadata": {
  "language_info": {
   "name": "python"
  }
 },
 "nbformat": 4,
 "nbformat_minor": 2
}
