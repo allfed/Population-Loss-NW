{
 "cells": [
  {
   "cell_type": "markdown",
   "metadata": {},
   "source": [
    "# Population loss in the immediate aftermath of a nuclear attack"
   ]
  },
  {
   "cell_type": "code",
   "execution_count": 1,
   "metadata": {},
   "outputs": [],
   "source": [
    "# may be needed on Codespace to solve a weird problem with the way the venv is set up\n",
    "# !pip uninstall basemap\n",
    "# !pip install numpy==1.26.4"
   ]
  },
  {
   "cell_type": "code",
   "execution_count": 1,
   "metadata": {},
   "outputs": [],
   "source": [
    "%load_ext autoreload\n",
    "%autoreload 2\n",
    "\n",
    "import sys\n",
    "sys.path.append(\"../src\")\n",
    "from main import Country, run_many_countries\n",
    "import copy\n",
    "import numpy as np\n",
    "import pandas as pd\n",
    "import matplotlib.pyplot as plt\n",
    "\n",
    "plt.style.use(\"https://raw.githubusercontent.com/allfed/ALLFED-matplotlib-style-sheet/main/ALLFED.mplstyle\")"
   ]
  },
  {
   "cell_type": "markdown",
   "metadata": {},
   "source": [
    "## (1) Single country\n",
    "Use this to simulate an attack on a single country and visualize the results on an interactive map. For this demo we use the same targeting policy as Toon et al."
   ]
  },
  {
   "cell_type": "code",
   "execution_count": 3,
   "metadata": {},
   "outputs": [],
   "source": [
    "# country that is attacked\n",
    "country_name = \"Netherlands\" \n",
    "\n",
    "# nuclear arsenal with which the country is attacked (number of warheads and yield in kt)\n",
    "arsenal = 1*[300] "
   ]
  },
  {
   "cell_type": "code",
   "execution_count": null,
   "metadata": {},
   "outputs": [],
   "source": [
    "country = Country(\n",
    "    country_name,\n",
    "    landscan_year=2022,\n",
    "    degrade=False,\n",
    "    degrade_factor=1,\n",
    "    burn_radius_prescription=\"default\",\n",
    "    kill_radius_prescription=\"default\",\n",
    ")\n",
    "\n",
    "# sanity check - this corresponds to the population of the selected country\n",
    "country.data.sum()"
   ]
  },
  {
   "cell_type": "code",
   "execution_count": 4,
   "metadata": {},
   "outputs": [],
   "source": [
    "country.attack_max_fatality(arsenal, include_injuries=False, non_overlapping=True, airburst=False)"
   ]
  },
  {
   "cell_type": "code",
   "execution_count": null,
   "metadata": {},
   "outputs": [],
   "source": [
    "country.print_diagnostic_info()"
   ]
  },
  {
   "cell_type": "code",
   "execution_count": null,
   "metadata": {},
   "outputs": [],
   "source": [
    "country.calculate_contaminated_area()"
   ]
  },
  {
   "cell_type": "code",
   "execution_count": null,
   "metadata": {},
   "outputs": [],
   "source": [
    "m = country.plot(show_burn_regions=True, show_industrial_areas=False, show_custom_locations=False, show_fallout=False, show_fallout_longterm=True, ms=10)\n",
    "m"
   ]
  },
  {
   "cell_type": "markdown",
   "metadata": {},
   "source": [
    "## (2) Multiple countries\n",
    "Once you're confident that everything works for a single country, you can also run the model for multiple countries."
   ]
  },
  {
   "cell_type": "code",
   "execution_count": null,
   "metadata": {},
   "outputs": [],
   "source": [
    "# This is the SORT scenario of Toon et al. 2008, but we run it with our own set of assumptions\n",
    "# for the burn and kill radius\n",
    "scenario = {\n",
    "    \"France\": 200 * [100],\n",
    "    \"United Kingdom\": 200 * [100],\n",
    "    \"Germany\": 200 * [100],\n",
    "    \"India\": 200 * [100],\n",
    "    \"Pakistan\": 200 * [100],\n",
    "    \"Japan\": 200 * [100],\n",
    "    \"United States of America\": 1000 * [100],\n",
    "    \"China\": 1100 * [100],\n",
    "    \"Russia\": 1100 * [100],\n",
    "}"
   ]
  },
  {
   "cell_type": "code",
   "execution_count": null,
   "metadata": {},
   "outputs": [],
   "source": [
    "run_many_countries(scenario, degrade=False, degrade_factor=3, targeting_policy=\"max_fatality\")"
   ]
  },
  {
   "cell_type": "markdown",
   "metadata": {},
   "source": [
    "Let's plot the results"
   ]
  },
  {
   "cell_type": "code",
   "execution_count": null,
   "metadata": {},
   "outputs": [],
   "source": [
    "# Read the CSV file\n",
    "df = pd.read_csv(\"../results/Toon2008_SORT.csv\")\n",
    "\n",
    "# Create a square plot\n",
    "fig, ax = plt.subplots(figsize=(4, 4))\n",
    "\n",
    "# Create the scatter plot\n",
    "scatter = ax.scatter(df[\"population_loss_pct\"], df[\"industry_destroyed_pct\"])\n",
    "\n",
    "# Add labels for each point\n",
    "for i, txt in enumerate(df[\"iso3\"]):\n",
    "    ax.annotate(\n",
    "        txt,\n",
    "        (df[\"population_loss_pct\"][i], df[\"industry_destroyed_pct\"][i]),\n",
    "        xytext=(5, 5),\n",
    "        textcoords=\"offset points\",\n",
    "    )\n",
    "\n",
    "# Add labels and title\n",
    "ax.set_xlabel(\"Population Loss (%)\")\n",
    "ax.set_ylabel(\"Industry Destroyed (%)\")\n",
    "\n",
    "# Add a diagonal line\n",
    "max_value = 40\n",
    "ax.plot([0, max_value], [0, max_value], \"--\", alpha=0.5, color=\"grey\")\n",
    "plt.xlim(0, 40)\n",
    "plt.ylim(0, 40)\n",
    "\n",
    "# gridline only every 10\n",
    "ax.set_xticks(np.arange(0, 50, 10))\n",
    "ax.set_yticks(np.arange(0, 50, 10))\n",
    "\n",
    "# Display the plot\n",
    "plt.tight_layout()\n",
    "plt.show()"
   ]
  },
  {
   "cell_type": "markdown",
   "metadata": {},
   "source": [
    "TODO: build and run my new scenarios"
   ]
  },
  {
   "cell_type": "markdown",
   "metadata": {},
   "source": [
    "## (3) Impact of multiple hits with finite accuracy\n",
    "Here's a more advanced use case. We want to know what's the difference in terms of fatalities if we target many weapons at the same spot (but with some uncertainty) vs using the same weapons to target different locations in the same city. For this we use higher-resolution data. We use NYC as an example."
   ]
  },
  {
   "cell_type": "code",
   "execution_count": null,
   "metadata": {},
   "outputs": [],
   "source": [
    "region = Country(\n",
    "    country_name=\"United States of America\",\n",
    "    landscan_year=2021,\n",
    "    degrade=False,\n",
    "    use_HD=True,\n",
    "    subregion=[-74.259090, -73.251740, 40.477399, 41.024100]\n",
    ")\n",
    "region_clean = copy.deepcopy(region)"
   ]
  },
  {
   "cell_type": "code",
   "execution_count": null,
   "metadata": {},
   "outputs": [],
   "source": [
    "number_of_weapons = 1\n",
    "yield_of_weapons = 15\n",
    "CEP = 1000"
   ]
  },
  {
   "cell_type": "markdown",
   "metadata": {},
   "source": [
    "**Case 1**: different targets, non-overlapping"
   ]
  },
  {
   "cell_type": "code",
   "execution_count": null,
   "metadata": {},
   "outputs": [],
   "source": [
    "region = copy.deepcopy(region_clean)\n",
    "region.attack_max_fatality(arsenal=number_of_weapons*[yield_of_weapons], include_injuries=False, non_overlapping=True)\n",
    "print(region.get_total_fatalities())\n",
    "print(region.target_list)\n",
    "# m = region.plot(show_hit_regions=True)\n",
    "# m"
   ]
  },
  {
   "cell_type": "markdown",
   "metadata": {},
   "source": [
    "**Case 2**: different targets, overlapping allowed"
   ]
  },
  {
   "cell_type": "code",
   "execution_count": null,
   "metadata": {},
   "outputs": [],
   "source": [
    "region = copy.deepcopy(region_clean)\n",
    "region.attack_max_fatality(arsenal=number_of_weapons*[yield_of_weapons], include_injuries=False, non_overlapping=False)\n",
    "print(region.get_total_fatalities())\n",
    "# m = region.plot(show_hit_regions=True)\n",
    "# m"
   ]
  },
  {
   "cell_type": "markdown",
   "metadata": {},
   "source": [
    "**Case 3**: all weapons targeted at the same high-value target"
   ]
  },
  {
   "cell_type": "code",
   "execution_count": null,
   "metadata": {},
   "outputs": [],
   "source": [
    "fatalities_list = []\n",
    "for _ in range(10):\n",
    "    region = copy.deepcopy(region_clean)\n",
    "    for i in range(number_of_weapons):\n",
    "        region.attack_specific_target(\n",
    "            lat=40.74721112908017,\n",
    "            lon=-73.98510350648793,\n",
    "            yield_kt=yield_of_weapons,\n",
    "            CEP=CEP,\n",
    "        )\n",
    "    fatalities_list.append(region.get_total_fatalities())\n",
    "\n",
    "mean_fatalities = sum(fatalities_list) / len(fatalities_list)\n",
    "confidence_interval = np.percentile(fatalities_list, [5, 95])\n",
    "print(\"Mean Fatalities:\", mean_fatalities)\n",
    "print(\"90% Confidence Interval of Fatalities:\", confidence_interval)\n",
    "# m = region.plot(show_hit_regions=True)\n",
    "# m"
   ]
  },
  {
   "cell_type": "markdown",
   "metadata": {},
   "source": [
    "\n",
    "Fatalities in millions\n",
    "| Weapons  | Max fatality (overlap forbidden) | Max fatality (overlap allowed) | Max value target (CEP = 200m) | Max value target (CEP = 1000m) |\n",
    "|----------|----------|----------|----------|----------|\n",
    "| 1 x 100kt| 2.37 | 2.37 | 2.36-2.37 | 2.11-2.36 |\n",
    "| 2 x 100kt| 2.97 | 3.20 | 2.93-2.94 | 2.88-2.99 |\n",
    "| 3 x 100kt| 3.54 | 3.89 | 3.22-3.26 | 3.18-3.34 |\n",
    "| 4 x 100kt| 3.99 | 4.51 | 3.42-3.44 |3.39-3.55 |\n",
    "| 1 x 15kt | 1.13 | 1.13 | 0.99-1.08 | 0.68-1.04 |\n",
    "| 2 x 15kt | 1.46 | 1.60 | 1.37-1.42 | 0.90-1.34 |\n",
    "| 3 x 15kt | 1.67 | 1.92 | 1.55-1.58| 1.29-1.66 |\n",
    "| 4 x 15kt | 1.84  | 2.19 | 1.65-1.68  | 1.53-1.83 |\n"
   ]
  },
  {
   "cell_type": "markdown",
   "metadata": {},
   "source": [
    "## (4) Using pre-defined nuclear war target lists"
   ]
  },
  {
   "cell_type": "code",
   "execution_count": 23,
   "metadata": {},
   "outputs": [],
   "source": [
    "country_name = \"Russia\"\n",
    "country = Country(country_name, landscan_year=2022, degrade=True, degrade_factor=3)\n",
    "country.apply_1956_US_nuclear_war_plan(yield_kt=100)\n",
    "country.print_diagnostic_info()"
   ]
  },
  {
   "cell_type": "code",
   "execution_count": null,
   "metadata": {},
   "outputs": [],
   "source": [
    "country_name = \"China\"\n",
    "country = Country(country_name, landscan_year=2022, degrade=True, degrade_factor=3)\n",
    "country.apply_1956_US_nuclear_war_plan(yield_kt=100)\n",
    "country.print_diagnostic_info()"
   ]
  },
  {
   "cell_type": "code",
   "execution_count": null,
   "metadata": {},
   "outputs": [],
   "source": [
    "country_name = \"United States of America\"\n",
    "country = Country(country_name, landscan_year=2022, degrade=True, degrade_factor=3)\n",
    "country.apply_OPEN_RISOP_nuclear_war_plan()\n",
    "country.print_diagnostic_info()"
   ]
  },
  {
   "cell_type": "markdown",
   "metadata": {},
   "source": [
    "## (5) How the results scale with respect to number of weapons used for counter-value targeting"
   ]
  },
  {
   "cell_type": "code",
   "execution_count": 11,
   "metadata": {},
   "outputs": [],
   "source": [
    "from main import build_scaling_curve, plot_scaling_results"
   ]
  },
  {
   "cell_type": "code",
   "execution_count": null,
   "metadata": {},
   "outputs": [],
   "source": [
    "build_scaling_curve(\n",
    "    country_name=\"United Kingdom\",\n",
    "    yield_kt=100,\n",
    "    # numbers_of_weapons=[int(x) for x in np.logspace(1, 3, 10)],\n",
    "    numbers_of_weapons=[2000],\n",
    "    non_overlapping=False,\n",
    "    degrade_factor=1,\n",
    ")"
   ]
  },
  {
   "cell_type": "code",
   "execution_count": null,
   "metadata": {},
   "outputs": [],
   "source": [
    "plot_scaling_results()"
   ]
  }
 ],
 "metadata": {
  "kernelspec": {
   "display_name": "Population-Loss-NW",
   "language": "python",
   "name": "python3"
  },
  "language_info": {
   "codemirror_mode": {
    "name": "ipython",
    "version": 3
   },
   "file_extension": ".py",
   "mimetype": "text/x-python",
   "name": "python",
   "nbconvert_exporter": "python",
   "pygments_lexer": "ipython3",
   "version": "3.12.3"
  }
 },
 "nbformat": 4,
 "nbformat_minor": 2
}
