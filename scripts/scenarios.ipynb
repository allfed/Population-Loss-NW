{
 "cells": [
  {
   "cell_type": "markdown",
   "metadata": {},
   "source": [
    "# Scenarios considered in the paper"
   ]
  },
  {
   "cell_type": "code",
   "execution_count": 1,
   "metadata": {},
   "outputs": [],
   "source": [
    "%load_ext autoreload\n",
    "%autoreload 2\n",
    "\n",
    "import sys\n",
    "sys.path.append(\"../src\")\n",
    "from main import Country\n",
    "import copy\n",
    "import numpy as np\n",
    "import pandas as pd\n",
    "import matplotlib.pyplot as plt\n",
    "\n",
    "plt.style.use(\"https://raw.githubusercontent.com/allfed/ALLFED-matplotlib-style-sheet/main/ALLFED.mplstyle\")"
   ]
  },
  {
   "cell_type": "markdown",
   "metadata": {},
   "source": [
    "## Pakistan"
   ]
  },
  {
   "cell_type": "code",
   "execution_count": 2,
   "metadata": {},
   "outputs": [
    {
     "name": "stdout",
     "output_type": "stream",
     "text": [
      "Total fatalities: 24317907 (10.0%), of which 0.0% are from radiation fallout\n",
      "Total destroyed industrial area: 7.7%\n",
      "Fraction of industrial polygons destroyed: 6.0%\n",
      "Soot emissions: 5.5 Tg\n"
     ]
    }
   ],
   "source": [
    "pakistan = Country(\n",
    "    \"Pakistan\",\n",
    "    landscan_year=2022,\n",
    "    degrade=False,\n",
    "    degrade_factor=1,\n",
    "    burn_radius_prescription=\"default\",\n",
    "    kill_radius_prescription=\"Toon\",\n",
    ")\n",
    "\n",
    "pakistan.attack_max_fatality(\n",
    "    arsenal=85 * [15], include_injuries=False\n",
    ")\n",
    "\n",
    "pakistan.print_diagnostic_info()"
   ]
  },
  {
   "cell_type": "markdown",
   "metadata": {},
   "source": [
    "## India"
   ]
  },
  {
   "cell_type": "code",
   "execution_count": 2,
   "metadata": {},
   "outputs": [
    {
     "name": "stdout",
     "output_type": "stream",
     "text": [
      "Total fatalities: 32742331 (2.4%), of which 0.0% are from radiation fallout\n",
      "Total destroyed industrial area: 1.5%\n",
      "Fraction of industrial polygons destroyed: 3.7%\n",
      "Soot emissions: 6.2 Tg\n"
     ]
    }
   ],
   "source": [
    "india = Country(\n",
    "    \"India\",\n",
    "    landscan_year=2022,\n",
    "    degrade=False,\n",
    "    degrade_factor=1,\n",
    "    burn_radius_prescription=\"default\",\n",
    "    kill_radius_prescription=\"Toon\",\n",
    ")\n",
    "\n",
    "india.attack_max_fatality(\n",
    "    arsenal=85 * [15], include_injuries=False\n",
    ")\n",
    "\n",
    "india.print_diagnostic_info()"
   ]
  },
  {
   "cell_type": "code",
   "execution_count": null,
   "metadata": {},
   "outputs": [],
   "source": [
    "m = india.plot(\n",
    "    show_burn_regions=True,\n",
    "    show_industrial_areas=True,\n",
    "    show_custom_locations=False,\n",
    "    show_fallout=False,\n",
    "    show_fallout_longterm=False,\n",
    "    ms=10,\n",
    ")\n",
    "m"
   ]
  },
  {
   "cell_type": "markdown",
   "metadata": {},
   "source": [
    "## US"
   ]
  },
  {
   "cell_type": "code",
   "execution_count": null,
   "metadata": {},
   "outputs": [],
   "source": [
    "country_name = \"United States of America\"\n",
    "country = Country(country_name, landscan_year=2022, degrade=True, degrade_factor=3)\n",
    "country.apply_OPEN_RISOP_nuclear_war_plan()\n",
    "country.print_diagnostic_info()"
   ]
  }
 ],
 "metadata": {
  "kernelspec": {
   "display_name": "Python 3",
   "language": "python",
   "name": "python3"
  },
  "language_info": {
   "codemirror_mode": {
    "name": "ipython",
    "version": 3
   },
   "file_extension": ".py",
   "mimetype": "text/x-python",
   "name": "python",
   "nbconvert_exporter": "python",
   "pygments_lexer": "ipython3",
   "version": "3.12.3"
  }
 },
 "nbformat": 4,
 "nbformat_minor": 2
}
