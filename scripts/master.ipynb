{
 "cells": [
  {
   "cell_type": "markdown",
   "metadata": {},
   "source": [
    "# Population loss in the immediate aftermath of a nuclear attack"
   ]
  },
  {
   "cell_type": "code",
   "execution_count": 1,
   "metadata": {},
   "outputs": [],
   "source": [
    "%load_ext autoreload\n",
    "%autoreload 2\n",
    "\n",
    "import sys\n",
    "sys.path.append(\"../src\")\n",
    "from main import Country, run_many_countries\n",
    "import copy\n",
    "import numpy as np\n",
    "import pandas as pd\n",
    "import matplotlib.pyplot as plt\n",
    "\n",
    "plt.style.use(\"https://raw.githubusercontent.com/allfed/ALLFED-matplotlib-style-sheet/main/ALLFED.mplstyle\")"
   ]
  },
  {
   "cell_type": "markdown",
   "metadata": {},
   "source": [
    "## (1) Single country\n",
    "Use this to simulate an attack on a single country and visualize the results on an interactive map. For this demo we use the same targeting policy as Toon et al."
   ]
  },
  {
   "cell_type": "code",
   "execution_count": 14,
   "metadata": {},
   "outputs": [],
   "source": [
    "# country that is attacked\n",
    "country_name = \"Japan\" \n",
    "\n",
    "# nuclear arsenal with which the country is attacked (number of warheads and yield in kt)\n",
    "arsenal = 200*[100] "
   ]
  },
  {
   "cell_type": "code",
   "execution_count": 15,
   "metadata": {},
   "outputs": [
    {
     "data": {
      "text/plain": [
       "123003744"
      ]
     },
     "execution_count": 15,
     "metadata": {},
     "output_type": "execute_result"
    }
   ],
   "source": [
    "country = Country(country_name, landscan_year=2022, degrade=False, degrade_factor=1)\n",
    "\n",
    "# sanity check - this corresponds to the population of the selected country\n",
    "country.data.sum()"
   ]
  },
  {
   "cell_type": "code",
   "execution_count": 16,
   "metadata": {},
   "outputs": [],
   "source": [
    "country.attack_max_fatality(arsenal, include_injuries=False, non_overlapping=True)"
   ]
  },
  {
   "cell_type": "code",
   "execution_count": 17,
   "metadata": {},
   "outputs": [
    {
     "data": {
      "text/plain": [
       "49370770"
      ]
     },
     "execution_count": 17,
     "metadata": {},
     "output_type": "execute_result"
    }
   ],
   "source": [
    "# This is the total number of fatalities\n",
    "country.get_total_fatalities()"
   ]
  },
  {
   "cell_type": "code",
   "execution_count": 20,
   "metadata": {},
   "outputs": [
    {
     "data": {
      "text/plain": [
       "0.12639271849920167"
      ]
     },
     "execution_count": 20,
     "metadata": {},
     "output_type": "execute_result"
    }
   ],
   "source": [
    "# This is the fraction of the country's total industrial area that is burned down\n",
    "country.get_total_destroyed_industrial_area()"
   ]
  },
  {
   "cell_type": "code",
   "execution_count": 10,
   "metadata": {},
   "outputs": [
    {
     "data": {
      "text/plain": [
       "'1 custom locations destroyed out of 7 (14.3% ± 13.2%)'"
      ]
     },
     "execution_count": 10,
     "metadata": {},
     "output_type": "execute_result"
    }
   ],
   "source": [
    "# This is to check if some locations of interest (in ../data/custom-locations) are destroyed\n",
    "country.get_number_destroyed_custom_locations()"
   ]
  },
  {
   "cell_type": "code",
   "execution_count": 9,
   "metadata": {},
   "outputs": [
    {
     "data": {
      "text/html": [
       "<div style=\"width:100%;\"><div style=\"position:relative;width:100%;height:0;padding-bottom:60%;\"><span style=\"color:#565656\">Make this Notebook Trusted to load map: File -> Trust Notebook</span><iframe srcdoc=\"&lt;!DOCTYPE html&gt;\n",
       "&lt;html&gt;\n",
       "&lt;head&gt;\n",
       "    \n",
       "    &lt;meta http-equiv=&quot;content-type&quot; content=&quot;text/html; charset=UTF-8&quot; /&gt;\n",
       "    \n",
       "        &lt;script&gt;\n",
       "            L_NO_TOUCH = false;\n",
       "            L_DISABLE_3D = false;\n",
       "        &lt;/script&gt;\n",
       "    \n",
       "    &lt;style&gt;html, body {width: 100%;height: 100%;margin: 0;padding: 0;}&lt;/style&gt;\n",
       "    &lt;style&gt;#map {position:absolute;top:0;bottom:0;right:0;left:0;}&lt;/style&gt;\n",
       "    &lt;script src=&quot;https://cdn.jsdelivr.net/npm/leaflet@1.9.3/dist/leaflet.js&quot;&gt;&lt;/script&gt;\n",
       "    &lt;script src=&quot;https://code.jquery.com/jquery-3.7.1.min.js&quot;&gt;&lt;/script&gt;\n",
       "    &lt;script src=&quot;https://cdn.jsdelivr.net/npm/bootstrap@5.2.2/dist/js/bootstrap.bundle.min.js&quot;&gt;&lt;/script&gt;\n",
       "    &lt;script src=&quot;https://cdnjs.cloudflare.com/ajax/libs/Leaflet.awesome-markers/2.0.2/leaflet.awesome-markers.js&quot;&gt;&lt;/script&gt;\n",
       "    &lt;link rel=&quot;stylesheet&quot; href=&quot;https://cdn.jsdelivr.net/npm/leaflet@1.9.3/dist/leaflet.css&quot;/&gt;\n",
       "    &lt;link rel=&quot;stylesheet&quot; href=&quot;https://cdn.jsdelivr.net/npm/bootstrap@5.2.2/dist/css/bootstrap.min.css&quot;/&gt;\n",
       "    &lt;link rel=&quot;stylesheet&quot; href=&quot;https://netdna.bootstrapcdn.com/bootstrap/3.0.0/css/bootstrap.min.css&quot;/&gt;\n",
       "    &lt;link rel=&quot;stylesheet&quot; href=&quot;https://cdn.jsdelivr.net/npm/@fortawesome/fontawesome-free@6.2.0/css/all.min.css&quot;/&gt;\n",
       "    &lt;link rel=&quot;stylesheet&quot; href=&quot;https://cdnjs.cloudflare.com/ajax/libs/Leaflet.awesome-markers/2.0.2/leaflet.awesome-markers.css&quot;/&gt;\n",
       "    &lt;link rel=&quot;stylesheet&quot; href=&quot;https://cdn.jsdelivr.net/gh/python-visualization/folium/folium/templates/leaflet.awesome.rotate.min.css&quot;/&gt;\n",
       "    \n",
       "            &lt;meta name=&quot;viewport&quot; content=&quot;width=device-width,\n",
       "                initial-scale=1.0, maximum-scale=1.0, user-scalable=no&quot; /&gt;\n",
       "            &lt;style&gt;\n",
       "                #map_1c78649969e7ed3a1e905c81258355c8 {\n",
       "                    position: relative;\n",
       "                    width: 100.0%;\n",
       "                    height: 100.0%;\n",
       "                    left: 0.0%;\n",
       "                    top: 0.0%;\n",
       "                }\n",
       "                .leaflet-container { font-size: 1rem; }\n",
       "            &lt;/style&gt;\n",
       "        \n",
       "    \n",
       "                &lt;style&gt;\n",
       "                    .leaflet-image-layer {\n",
       "                        /* old android/safari*/\n",
       "                        image-rendering: -webkit-optimize-contrast;\n",
       "                        image-rendering: crisp-edges; /* safari */\n",
       "                        image-rendering: pixelated; /* chrome */\n",
       "                        image-rendering: -moz-crisp-edges; /* firefox */\n",
       "                        image-rendering: -o-crisp-edges; /* opera */\n",
       "                        -ms-interpolation-mode: nearest-neighbor; /* ie */\n",
       "                    }\n",
       "                &lt;/style&gt;\n",
       "            \n",
       "&lt;/head&gt;\n",
       "&lt;body&gt;\n",
       "    \n",
       "    \n",
       "            &lt;div class=&quot;folium-map&quot; id=&quot;map_1c78649969e7ed3a1e905c81258355c8&quot; &gt;&lt;/div&gt;\n",
       "        \n",
       "&lt;/body&gt;\n",
       "&lt;script&gt;\n",
       "    \n",
       "    \n",
       "            var map_1c78649969e7ed3a1e905c81258355c8 = L.map(\n",
       "                &quot;map_1c78649969e7ed3a1e905c81258355c8&quot;,\n",
       "                {\n",
       "                    center: [51.16960688984582, 10.438224876727555],\n",
       "                    crs: L.CRS.EPSG3857,\n",
       "                    zoom: 5,\n",
       "                    zoomControl: true,\n",
       "                    preferCanvas: false,\n",
       "                }\n",
       "            );\n",
       "\n",
       "            \n",
       "\n",
       "        \n",
       "    \n",
       "            var tile_layer_9442a67fcec721829292203b7be2b06a = L.tileLayer(\n",
       "                &quot;https://tile.openstreetmap.org/{z}/{x}/{y}.png&quot;,\n",
       "                {&quot;attribution&quot;: &quot;\\u0026copy; \\u003ca href=\\&quot;https://www.openstreetmap.org/copyright\\&quot;\\u003eOpenStreetMap\\u003c/a\\u003e contributors&quot;, &quot;detectRetina&quot;: false, &quot;maxNativeZoom&quot;: 19, &quot;maxZoom&quot;: 19, &quot;minZoom&quot;: 0, &quot;noWrap&quot;: false, &quot;opacity&quot;: 1, &quot;subdomains&quot;: &quot;abc&quot;, &quot;tms&quot;: false}\n",
       "            );\n",
       "        \n",
       "    \n",
       "            tile_layer_9442a67fcec721829292203b7be2b06a.addTo(map_1c78649969e7ed3a1e905c81258355c8);\n",
       "        \n",
       "    \n",
       "            var image_overlay_e5cd0a5475b492ba60065a0a2831c381 = L.imageOverlay(\n",
       "                &quot;data:image/png;base64,iVBORw0KGgoAAAANSUhEUgAAAW8AAAE5CAYAAABf66H+AAAfyklEQVR42u2dCdgkRXnH/4riRVBEQxAIIhJBI6jcUVBAuVQEPIiICwooisoRo8AChaKCsHKLugisIBF1WTw4VBZBDcdCOBTER/FIBDTEqJsl6BpE0/VtjV9b1tvTM9M9093z+z3P/wH6ra7jrar/9DTfdEsAAAAAAAAAAAAAAAAAAAAAAAAAAAAAAAAAADA+tpbWtkR2AAAayAbSk/8ouUxnJOR8nCwBADSMYNwnZvpjQv64I0sAAM0074cN834Y8wYAaK55n2SY90mYNwBAA9lIekow8LMScj5OlgAAGsiLpL+1RHYAAAAAAAAAAAAAAAAAAAAAAAAAAAAAAAAAAAAAAAAAAAAAAAAAAABglmukfS2RHQCAClkk7WVp0HrC88PvSsgNWh8AABicK+0WDPfWhJyPl60rV0/qzT238uYeAICKCIZ7nWG41w1iuKGurxh1fQXzBgCo1ry/YRjuNwYx3OOl7XL1xXI+TsYBACrgLGnXYLhLEnI+Pmh9lsg2AECFXCTtaYnsAAAAAAAAAAAAAADAoKwhPcES2QGASniMtJIlsjNcPsNf/RyfkCOvAFAJv5XmWiI7w+UzmPdDCTnyCgAj83Ppn4LRPJCQ83GyNBi5fKZ+LPUAv04FgKqM5heG0fwCoxk6p2caOT2TnAJAVUYz3zCa+RjN4GwhrZXLayzn42QJAEZiR2n9YDQXJOR8nCwNl1dLZAcAKuG10rMtkR0AAAAAAAAAgLFxtLStJbIDANBA3iltEf4H6RUJuXfO/LEGAAA0imDclxp/mngpf5oIANBc877LMO+7MG8AmEq2l9az1IT+LZbmBAP/UULOx5lFAJgqNpOeFozxEwk5H7fOs1RHP2+SDrTELALAtN6SOMO4JXFG6pbE30mr586L5XyczAIA1G/eywzzXpYy73DOycY5J3MPGgCgZv5XOiqY8e8Scj5umPfvDPP+Xc+8Hy892hKZBwAYgUdKjwhmfFxCzscN8z7OMO/jeub9e+lYS2QeAGBEniQ9NlYwaPcr6b2xcvETEnI+7suFMr9JaKbeJuckNe6eWDEA0Ej+Qzo0GO/ShJyPryOtail3db7UuDpf2uT74mXGzyoBgNq5U3q7pVT5YFz3G8Z7f894i+oNdZxl1HFWk8277PgBoIPcIO1vadz9CGZ0T0Iu1Z9Q/hzDvM7pnVdUb07nJOS2bPCbYcqMnxUO0BC+Jr3R0jB1BQP4YUJumDpHNKIfGkb0w5QRvVR6RjjvUwm5XLywXl/OUpPXQpnxs2MAGsAl0utyz8+I5Xx8CMNsxLM4Ql8uNvpysdWXPaQNLZWt1+fNUtPXRL/xA0BzvibfZhjRbYOabahvkVHfonGa9xxpk1x/Yjkfr6PenG5LyC2QdmflAUAV5n2ZYbaXDWq2b5c2z9UZy/n4OMfn27NUV71h/EuMnC7hvjEAjMx7pRcGs7kqIefjw9RpqQs5O0HawVLuA/Eqw7yvwrwBoBKOl7azRHb+nLnSNsGcr07I+bjPWyjzjYQceQUAGDPBlK80rqqv7F1VnyrtZIksArSY/aXnWyI7jTfvWwzzvoVbIgAdZi/pOcEEPp+Q83Gy1Ew+I706zN0dCTkfJ0sA3b56u8i4eruIq7dm8yXp9ZbIDkD3zfvHhnn/GPMGAGggS6QDgoHfm5DzcbLUbTaXnmaJ7AA0mO9Kb7dEdrrNRtJTck8ejOV8nCwBADSMYNynGLfNTuG2GQBMjNWlx1nCvGfM+0HDvB/EvAFgaB4rPcpSmXODQR2fkCtTR5f5jTQ35Of/EnK/mfkhJwDAEIzyAl1fJpjTwwm5aX8J7zAvPgYA6Msy6chgLssTcj5e4rbAcuO2wHJuC0irSCtbYgUCwFAE833AMN8H+plvOP9k4/yTMW8AgPrM+zTDfE/rZ77rSU/K1RHL+fiPpHdZYgYAAIbgOdJTg/l+NCHn42XqsHSH9LbcW8pjOR9nFgAAhmCUXwD6X4hayl3Z32tc2d/LbRUAgDFzjbRvMOefJORy8fMN8z6/Z96+rCUyDQBQIcGYf2AYsz/udpGeGcp9OqGZ+OXS3rm6YjkfJ9sAANWa92cN8/5s76r61dJGlnL1fNeo57vcWgEAqJB9pI2D8V6SkPPxAT4ELjHM+xLMGwCgYt4ibWppkDqCgX8pITdIXQAAMEYOkba0RHYAAAAAAAAAAAAAAAAAAAAAAAAAAAAAAAAAAAAAACbNP0jrWCI7AA3jBdKalsjOdK2D8CyejyfkWA8ADaKK18VBN8itg9RTMD/KUzABmrdhTzc27Ols2G6xvrSapbAWfmmshV+yFjrO2tKqlshOY817qbFhl7Jhu7U3w3x/JCGX09KE3E+lw9jjHSX7fv34MPknJeR8nCw1i/uld4c5+9+EnI+TpU59UJ9kfFCf1JtvS+zx7i+ODxmL40NcxTWTpdIRlshO5/bnb4396Y+77NL5MZbY491fHA8ZE/sQEwswOX4rzc3t0Vj52ybHJ+Qy916JPd5R/jA7+X9IyP2BiQWY+B61lDPvlDG7P/55OfZ4G1guHW0pX27l2U/m9yfkfJxswiBrCqrF70FLZa6q2eMtYpl0ZJis5Qk5H8+XXyVbH5bIJgyzpqYtN5bqbjvMyQcN8/5g75YIe7wlhAl90JjQB7nH1Tx+If2zJdZUs+ctl5tYbpT5K7MmVpceF9r/cEKu14emritIb7R5xkabh3k3i/ukw8OcLUvI+ThrqtF7bZmRl2XD5mWQNbFmdmGdUu5+eGPXFUSsKz0xTNqpCTkfJ0uNM4BfGwbw6yYYI2uqcO5ONebu1GHnroo10YZ15fmJdIilqTSEDaQnW8IuG2kAZxib7IxBN9n3pXdYYk1Vv89y8xfLDZubKtZE1euqDvyaDP3874TcqGt26rhDepulUcqOck4TxloXVT5oyvc71HV/Qm4SOe46fn4sTXJNtOEBZrm1mvqAuZ9bvANwi/SWkNCfJeR8fJiyo5zThLHWzfOlv7E0xGb4mbEZfhZvBj9GS+yGyVLFmqhqXdVs3h831uvHMe/Bk3mPkcx78skcpOwo5zRhrC2bv/nGmObnx3SjdEAuB7Gcj7MjoE62kNbKrdlYzsenKiHflN5kqeTmP9fY/OcmzLtU2VHOqdnoGtGXqniR9Le5ccVyPh6N/9+N8f87Vz0wrjVraaoScbU0J2zKHyfkfLzo/O2kp4fzFyTkfHyYsqOcUxdN6kvV47KU+PBaYJj3AswbYPxfm+82NuTdZTbkjtL6lkYpO8o5ddGkvhTxFWkfS8Oem/s74AsSck3LAcA0mPdFhnlfNG1XU1+WXm+pTWMI8/r9hFzRWPqd6/VyaYOUmE+AMbK7tGHYlJ9JyPn4tORikbRXyMVdCTkfr7ItSxV9IN9lfCDfVfSBPMq50zyfABPhtdKzLU3ht5A7DeO6syrj+qz0mlxbsZyPVzCOzxnj+FwJ8x7q3GmdTwBoxmZfaGz2hVVt9tDOd4x2vjNqO6+X/j43lljOx+s4d1rnEwDGxAJp95Ry/0NuUUJujrRJhaayyDCVRVWYiu+rpTrPbRK+v+OYTwAYA5+Udgsb+paEZsz7zdLzU6qqD76u0NYXEnJVtjXtWHNJjgHaeWvkZuOq9+ZxfZV+i7SpJWYJABrBWdKuliZk3pcZ5n0Z90EBADJOk3YOhnlDQs7Hx9mfd0lbhv5ckZDzcWsclphlAOjqbYrrjCvd6+q80p0n7ZiSb/NwaeuUrHpy44jl5s388LK7WHns+rgBMG/pa4Z5f60u8z5Remlo+1sJOR8fcAzfMsbwrS7faqkyjwDQIo6UXhQ2/+KE3JEzDwmr7UPjm4bhfnMQw831P1XX4i6bd5V5BIAc75e2s9SUto6WtrVUs+lcbZjO1YOYju9nrr5Yrs5xNMS8K8kjexAgcKz04rC5vp6Q8/E2tlUFx0kvCf29JiHn44PWZ6nLa6zqPLIHodXMlbax1NSrojZegR2fXflYYhWSR76ZwEAcMXsP+KqE3BED3AMe5/1I7n0CsC/G5ZGWmjDZlfz1xTj/EoC/OgBgX9TNe6QX5jwylvPxSZt3ZX/3fLL0MktV932cbU2af5K2tsQWg2ndF2Pyx68a/vjViX6TOUXaKXTw+oScj0/TZB0qbWVpUvX6MmGOrkzIjdo3ACg07+sN875+4rehqv6ptf9Jt6VJ1lWmrWF+ql53vblzUwvoCu5jAtTnjU16nEatvEPaIgz28oScj0+irgE+ZS83TPLyYU1y1HrD+Tca59+IeQPUxxnSLpa6+DWjkqfkjfuJe6G9JUZ7S0Y076Hr9U87zNURy03iaYgA0M17RDcZRnXTEOZdSV1lOFt6ea7NWM7HJ1WvL2OJVQcAI/Nx6RW5FwzEcj4+ibpSpF480Ht7ja87Vtk6Ui8xSNVXVC8AwNiZL73S0qh15d7r6A6QXpDXIPX68qGeLybkytRXRR3TQDxPw84ZALSU/WfftZg0y/1z7wH0/24pd0vmi8YtmS+WuSVTRR3MGe9uBJgob5KeZ2mQMiXM8guGWX6hZ5a+vqIX6ubitxp13TqAeY9UR9cpO2cw+v4CGJj9Zs3w0oScj5cp06vLUlmzzLWTKjfT3nnSq3L1xZqJ9xt3FXVMiXnzAVfz/iJLMMoGLTTLMmX2lTYpWqQ53ZaQOz+YZa5Mqq3beobhy1sqO/Yq6ugy589+wBXOGYy2v8gSjLK4Cs1ygDKLjDL+uFsg7W6p1x//70WGkS8L9VNmzmC0/UWWYCg+NWuWtyfkfLxMmVw8tUhvH2SR9tpMKV/ujdLGlphZaMv+IkswNBdIe1gqW8b/s2iR5usqwz6ZAVvqxUN7lyTk9sHAoUX7C2Bo3iA911LZOi7MFqOlQftSZMxRPHWlfwlfR4H9CVOxMPqZ5Tj7U8aYg75tlPn2tJs3m539CVOwaZt2FVvGmC+cvU3z7YTchVP8lZTN3i34lsmmNTftOK5iB/lQKWvMVd2mYbNDC+aTb5lTMMkLjUleaE3yp6U9i8zSx/fOTNZSv37tPfuhsjAhl6rDt2mJmWazTxNl9idZmuJNW3QVO+rX8CqvBLmX2x9uKXVzTvmWOeWbdhL3xKu6EuReLpsdYCo37aTuiVd1Jci9XACY5tsqA5tfvx/g9H4UY/2gplfHqD9UqPJXnAAAbTPvoczPMt7c31zX/kvHqn/FCQDQCvo9Z8Fr0GeFlHkgVdVjKPPcEwCAxjNH2sRSXHaB8YS46MmAsVyqrpx589Q0AKjVuzpHv+do71syCcM+d5hnPgPAJL2rtVT1sPdR3pri3zpjycf3K3jDTtlxVlEHAHTPu9qegFuMBNxSNgGflHbL1RXL+fgw/Xvz7Etsk++kfHOJl9hWUQeMHz8vlprQ5iT6B9V7V2s5R3plken6+CB1WRpxgpwxQW6AlwWPVAeMl0m8eX6QNifRPxjMu3rzkFJnkvAJ6RWWxtH+gdILLGHeU31VNdY5G6TNQftXtMaZ7eq9Kzc/X0rIdS7vb5U2tVRXXf6/Q5K/nFD+xcM3J+Q+Jr28X198mVHrAMx7WPPut8aH2V/ABdufOEjarGiB+XgddZVJ8tmZuVoq26cq6vD9tsR2qZazZz9wb0rInV3DB+4gbQ5Stg4jYS1i3rUMts6vn5PiYGnz0J/LE3I+zpapljOlXSw1oc2yZate46zFcvMYcrQkIVfnGpoa8z5d2jkcuzEh5+N8kkObqXqNsxbL591SpwZ6qrRTmPgbEnI+ni9/iLSlpX51eeXL5+9t+3Pz4mtYca7Zou3ZX5baeiHBupwgh0lb5ZU30Y9IO+YVnxfKfSUh5+Px+T3l2jDPbWKucn2/PiEX56jKOWpjvqB7a5F12RDeLf1DSP5XE3I+Xscnf5u/8p0kvcwSt2ug62uRddmB2wDjOve90gstMU9sEmBdkvwBk/8BaftQ5hsJOR8f9dyjpG1CucUJOR+fhnkaJdcAFn7/WGJdNpz3SS8Jyb82Iefj/c63VKbtfufyyV5NrgFijpG2DXvo6wk5H2ddNpxjpRdbqrqt47IJtcTXMgBueUADOV7arugrlo/H58ydvW1ydUJu7pTcNgHAvKF1i4X/YQnDcoK0g6Vpz43fP2HfXZWQY38Bn/RDMuk/A+tC/sK6+teEHHlc8afCllhB8CcOnf2D/isTcofyB/1/4pTZX6cmf4BxSkN+der7YYmLBYAO8Q5pC0tkp13Gc8bsQ3+Sz+o4Y8IP/cG8AQDjaWEfq3y8cdOp4lHHAFABB8y+PSj5eq0DGvAGkDZ8wPg8WerKWpk/+xqwf0vIzR/h9YMAMAT7NfxN974fuTd3x3JN6Sff0rg9BC3gAmkPS2SnevaRNrZEdjBvgFJ8Rnp1WKx3JOR8vOr2LDEbMC72kp4T1v3nE3I+TpaAK5DAQul1oc7vJuR8nBmBcbGntJElsgOdMO8vSv9oqclfVavqNwBA49hZemYwzgsTcjn9ICF3hfSGJpq371dV/QYAaCQ7SOtZqtJwc/V9KiHn4+P8RsHMd5erpDdaIjvAbZUhTHBbaV1LTe43tIdrpf3CHP8kIXftzF9sAnScraW1w0b4ZELOx+n39HKd9GZLXbngAGgtm0prWqLf08vN0oHBDO9LyPk45g0A0DCaapIbS2uE9s9OyPk4swcAmHcDr3A3lJ5iiZkDgKnmGdJqwaRPS8j5OFkCAP1UOszSIGUGKQfFrC2taonsAID+U3p3uMp7ICHn42XKlK2LjAMAVECZ+6tl78Hy1wgAABXyoHSUJcwbAKCB/F46Nhjnwwnljfm4hNwjpUd49Svj2ypbrm35s8TqAoCReFTmm5bKXA0XnV/UZjj/fQm5onP79bkpeeWbBADUxhOkRwcj+WBC+Svr3yWUjyfP9/VXbWz9+my1iXkDQGcoYzD/Lb3H0rAGNYqxtcUUc/l5MKGZvLZ57TxZepwldhZAw68Ohz3/PunwEF+WkPPxLlzR+nFYqqO9NaVVLFXdTsj1vIRc1e0BQMSPpUPCJvxVQs7H6zrfx/LK34Z5uvSkvKrsc1fxeQp5OTUhF+eRW0IALecu6WBLVZxf5nkW/t/Dpj8zIRc/+2LUPvMtCvMGaAWbSGtYqrvdsJk/lpDrtY8ZtMtQb5PeGur8eULOx5kRgBHZUlorbLRzEnI+PmlDwbxH5wZp/5CrexJyPl51e5aYDYCWf8Ut2/Y10r5Fr8jy8abk88XSupYm3TefJ0vsBADMuzRXzr4t/u6E3JW5t8X7f7fUlFzuJK0fxnNhQs7HWXEADeFV0rMstaH/l0p7BcP5XkLOx+tu3xIfhKxhgFr4R+nvw6b8fELOx9swjn+RXm2JWe62eXdlDQNMxZVWk9hPel6sto7lvOwiNsz7rQm582YuclnDrBtg4beYt0mbeWU5uixWL9bGcX1U2tUSa5h1Aw3hI9KOYYFfn5Dz8WnNzWHSVrH44GMNc8EEjeED0vaWpjEfR0nbeGWbaHGsXoxNyBrGvAFaurnmZiY+d4XJXx2rFyOb9XK8tF2spveZdQPQkCujw6WtY5HFepkn7Thvxe2S62L1Yk0fA+sGoGIOkjY7aMX/UPpyrF6MLHHrAQAayr7SJrH88fOlV8UiW5g3ADSUz0qv8cqM4c5YvRhZGg+vlZ7tleX+c7F6MbIEAFztNZRXSH+Xl5+DL0mvz4ssATSMxdKcWJj3dK+FbA5+FGsca2MS6xGglVy/4tnOP411fY3PWt5KWtsr9dzwcNz59vNipqbjW9Ek1iNA67hdOqhoo94+8wcj9bGxtEas0Ke/eOtK3X2ByZv3pNcjQGtYX1qtaLP4eJl67pbeGWuY/vjzivozbL0w2JoI6+L0WL1Y09cjQGXcJx0eaxJ1pFhTWiXbGPNi+eNl+5WVXxZrmP6Fvpibt2yfoJp1EWtc7Y6yHgEqY6l0RLb4fhvLHx9nHUWsKj0m1gD9Ms021T9/LFbcl+zcD8Uq26dpXWNFOZ1UXeNejwCV8X/SMUXm5uPjqKMuHiU9sqhvPp4Yy+9jxWPw58ViNRWuj745HXddAK1nuXR0tgEeiuWP58utLK0Ua9A6JjnGWEYeTKPPn+PHnh17f6x8TmCwnI6zLoDO8EvpPbHy8dWkx2Yb5MRY/njZOsrg64s1yrgGrc/3ORvXb2LlxxJyYZrIqH3u4trql9NJ1AXQedaWVi0yq7VnbgFW1s5HYg1b/7D1/VQ6LFYcL8pHXB7653RSdQF0mrukg4vMysdHbWND6SlFbfj4JOszcvJfsarIBQBAZdwsHZiZ032x/PEK6zfNdtB2qq5vU2nNWL6OWKPmIdUOqw8ARuJaab9YVdefGetPYg3bTlX1bSutm513Xix/vMrxj6sdAIDKuUzaO9Yk69tV2qDoCt7Hqxj3uNoBAJgKLl7xTG/TVC+u6Lne42oHAGBq+KS0W2agt8Tyx9vYDgBAZ3iXtGWsfPw0aedYdfRjXO1AM9YVAIzAUdI22RXu4lj+ONkB1hVAAzlB2qHoXrOPkyVgXQE0jIOlzYs2mY/X2f6Z0i6xqiwP07muAKaCOdIm2YZaFMsfr7PdBdLuWTu3xfLHqygP07muAKaKPaQNY/U75xLpdbHKtufLFl2ZxXUNWh7au67qWG8Aredr0htjDVtPZpo/jFW2vpdKzygyYx8fpTx0b92Ost4AWs0NK976fU+sGwZ863eoxzTSsvVtKa2Veju9P15F+SryFYtVNLF1O/J6A2gld0pvL9oAPl62rmdLTy2qy8cHqSuvXl/yGqV8Kg9lyod83R9rkDxBNVS53gBaxzp9nkm+zoDPDA/1nRJrnRGebf4f0qFZHUtj+ePjLB/Kmbmy6ofa12+l6w2gNTxxxYuDT4j1xCFfHuvPizVs334tvbfIMH18XOVDnsyyT2z5y3b9WGO1Zf1Wtd4AWscjpUfEakq/igwz7ueYyh8Xqyn5GpbfS8dm43g4lj/O7gAAkydIj46Vjz8gHRnLl8kM5oOx/PEqylfR7zbgx1r0AVY2FwAwZawprZKZxLxY/nifc0zDic8dtHxd/W4q90mHZ31fFssfZ4UCNIRnSavHmmRfikzV6tv3+rw/9HvROzMHLV9Xv5uMz0EsdgtAQ9hcelpmLvNj+eOT6M8S6YAiE/TxPufeG8sf9+OJVVR+nP0GABiIJvwa0bcRa5RfyaV+GRrG+alYvbaq+CVpr21+3QdFa5usQCUs7PMckIU1PxNiT2mjrJ2LY/njvu1YI7RhjtHHq85pFf2GdlO0tskOVMK5K14pdmusc2t+pdibpOcVmaqPVzg+s51zeXVaY/BzHqut4xjH2gbQKdJOscbRZtECr7IPoa3rY41jnFCOQ6Wtsjm5MpY/3sb9NK61DVOCk14ca9L9yRbzNbHK9GvQsTRt7PAX68A0uzbO1ShrG6AVV5/+yioWV9JTedVtmncbr76HXdsAf0aX7vtyD7ubhPvEX4jF/WGYasb9FxeMBYad21hkBaae7aX1MnNbEMsfZyyDsViaE4sVRm4AamNTac1YjGUwbpYOzD4o7ovlj08qF77tWJPqR9NyA9Ba7pbeGYusDJ/Lols2k8ht6NMvY427L03MDUBr+YX0z9nGeTCWP052Bmd16XFFBuXjE5hfsz/jnOem5QagtTwkHVO0mXycLA3OSitevvC+WCtN4OULK/V5cUSdffLrJ1aTcgPQapateKj+8ljLeJh+5+Y5Vl1trSKtXPSB4ePMCEAF+JfgxiIrMMp64qXLAAAN47nSX8eKy3xbOigz6v+M5Y+TQYAOsK20biyy0uz5ykz4vFipebtW2i8WGQToALtJz8o2/r/E2m3mjWHQ0Pkyb4f05s3/MxbZA+gI+0qbFBmBj5OlZnG+9KqiOfPxMK+Xxorn0/93LDIM0AJ4nnGr5y35tMayT/7r0nO5ATrP+6SXxDpG2jbbtF+PdczMrVVoKn5+YvWOF5m3j/t5Lyrj42QYoCGcKe2Sbcwlsfzxg6XNY5Gx9uLnL5vby2P15jXETfNm/gFK8mlpz1hV11+0WatuDybP3tJzY8XxbO4XxorLAYDBFdIbsk3zg1j+eFVt7Cw9s8i8fXxacx9rmsbv5z0WOxKgBDdKBxSZqo9X1dYW0lpZnfNj+eNTnPt7YlWZcwDoKBtITy4ybx+vur1Y05j370vvKMq7j7M6AaCQ8IjOD8fi0Zy155zHogIAtJFg4H+mYer5Q3ZeLLILANBQVpMeW3QF7+MdHO+JsSYxTt9mLFYkAJRiml4ptn7ml0VjXX/GT8fal9NjjbMPANAH/9cwsZrUv2n5q5Vx/mVUv/VQ1I9p/espgCS7SM+MNa52sw356Vi7NOzvkS+X9o7VxXXgx5X6TcI4xxv6YJp3V3MPMDD7SBtnm+KSWP74GNo1N2nd7UOaC6Q9Yk2iD9kauD3WJPoC0EgOkbYsMlAfr6vtU/s88fDUmp546McUi5XQPPz8xyIrAIGj+zyh7uiCJw++X9ou1pDtXx3r6JqeeOj7mNV/baxh+g4AMFHeJm2WGdhlsfxx65yPSrtmZW6K5Y8XteXjsXw7seoYZ+iz+UHVr+8AAI3jddJzYlllL5ZeU2SCPl5w3h2xrPJ1jLGo30VjBoAOs1iaE6uL49xeWq/IBH08lZuic8aVq9D3BbFSfQaAKeB26aDMBH4eyx/v4ng3ltbIxnd2LH+8oLxp3tZ5dfU9FisYYAq5Vzq8yJh8vIvjfpr0V7H6lc/yMS9W/jyfq1isMACohZWllYrM28fJ0myuYvViy6Wjs3w9FGv5zB+lAADUxP9IR8QiK+VzV/QBSC4BABrKj6R3ZUb9q1j+ONkBAGgwS6QDYpEVAAAAAAAAAAAAAAAAAAAAAAAAAAAAAAAAAABoBP8PLDmX6LTc6Z8AAAAASUVORK5CYII=&quot;,\n",
       "                [[47.26906514793721, 5.862907146329604], [55.07014863175441, 15.013542607125487]],\n",
       "                {&quot;opacity&quot;: 0.5}\n",
       "            );\n",
       "        \n",
       "    \n",
       "            image_overlay_e5cd0a5475b492ba60065a0a2831c381.addTo(map_1c78649969e7ed3a1e905c81258355c8);\n",
       "        \n",
       "    \n",
       "            var marker_7e764535ea8a070ffb60862ccebc6bb2 = L.marker(\n",
       "                [53.910816, 9.208998],\n",
       "                {}\n",
       "            ).addTo(map_1c78649969e7ed3a1e905c81258355c8);\n",
       "        \n",
       "    \n",
       "            var icon_d416473dbad3383b89ae94cedc6583cd = L.AwesomeMarkers.icon(\n",
       "                {&quot;extraClasses&quot;: &quot;fa-rotate-0&quot;, &quot;icon&quot;: &quot;info-sign&quot;, &quot;iconColor&quot;: &quot;white&quot;, &quot;markerColor&quot;: &quot;green&quot;, &quot;prefix&quot;: &quot;glyphicon&quot;}\n",
       "            );\n",
       "            marker_7e764535ea8a070ffb60862ccebc6bb2.setIcon(icon_d416473dbad3383b89ae94cedc6583cd);\n",
       "        \n",
       "    \n",
       "        var popup_1f8da7229c5bea40b5fb59ba7ccb9af7 = L.popup({&quot;maxWidth&quot;: &quot;100%&quot;});\n",
       "\n",
       "        \n",
       "            \n",
       "                var html_c255c292208c5b6d4c3a8dcb6486e7e5 = $(`&lt;div id=&quot;html_c255c292208c5b6d4c3a8dcb6486e7e5&quot; style=&quot;width: 100.0%; height: 100.0%;&quot;&gt;YARA Brunsbüttel GmbH&lt;/div&gt;`)[0];\n",
       "                popup_1f8da7229c5bea40b5fb59ba7ccb9af7.setContent(html_c255c292208c5b6d4c3a8dcb6486e7e5);\n",
       "            \n",
       "        \n",
       "\n",
       "        marker_7e764535ea8a070ffb60862ccebc6bb2.bindPopup(popup_1f8da7229c5bea40b5fb59ba7ccb9af7)\n",
       "        ;\n",
       "\n",
       "        \n",
       "    \n",
       "    \n",
       "            var marker_55aad6b60c7bad7ff04b8805ced8a92b = L.marker(\n",
       "                [54.134532, 12.300922],\n",
       "                {}\n",
       "            ).addTo(map_1c78649969e7ed3a1e905c81258355c8);\n",
       "        \n",
       "    \n",
       "            var icon_35a3aa5df27542a89b88854c87a1b804 = L.AwesomeMarkers.icon(\n",
       "                {&quot;extraClasses&quot;: &quot;fa-rotate-0&quot;, &quot;icon&quot;: &quot;info-sign&quot;, &quot;iconColor&quot;: &quot;white&quot;, &quot;markerColor&quot;: &quot;green&quot;, &quot;prefix&quot;: &quot;glyphicon&quot;}\n",
       "            );\n",
       "            marker_55aad6b60c7bad7ff04b8805ced8a92b.setIcon(icon_35a3aa5df27542a89b88854c87a1b804);\n",
       "        \n",
       "    \n",
       "        var popup_6ab93070fa6ab46d7a4f1b59deb4b965 = L.popup({&quot;maxWidth&quot;: &quot;100%&quot;});\n",
       "\n",
       "        \n",
       "            \n",
       "                var html_66cbaac225d84b96580eec1b4032afb4 = $(`&lt;div id=&quot;html_66cbaac225d84b96580eec1b4032afb4&quot; style=&quot;width: 100.0%; height: 100.0%;&quot;&gt;YARA GmbH &amp; Co. KG&lt;/div&gt;`)[0];\n",
       "                popup_6ab93070fa6ab46d7a4f1b59deb4b965.setContent(html_66cbaac225d84b96580eec1b4032afb4);\n",
       "            \n",
       "        \n",
       "\n",
       "        marker_55aad6b60c7bad7ff04b8805ced8a92b.bindPopup(popup_6ab93070fa6ab46d7a4f1b59deb4b965)\n",
       "        ;\n",
       "\n",
       "        \n",
       "    \n",
       "    \n",
       "            var marker_be356c2e40d3459ef816af186d4597e8 = L.marker(\n",
       "                [51.876023, 12.585725],\n",
       "                {}\n",
       "            ).addTo(map_1c78649969e7ed3a1e905c81258355c8);\n",
       "        \n",
       "    \n",
       "            var icon_e1a2554ff4482112234b256c8773ee01 = L.AwesomeMarkers.icon(\n",
       "                {&quot;extraClasses&quot;: &quot;fa-rotate-0&quot;, &quot;icon&quot;: &quot;info-sign&quot;, &quot;iconColor&quot;: &quot;white&quot;, &quot;markerColor&quot;: &quot;green&quot;, &quot;prefix&quot;: &quot;glyphicon&quot;}\n",
       "            );\n",
       "            marker_be356c2e40d3459ef816af186d4597e8.setIcon(icon_e1a2554ff4482112234b256c8773ee01);\n",
       "        \n",
       "    \n",
       "        var popup_418e6888551d0e71901fef6ea59273e4 = L.popup({&quot;maxWidth&quot;: &quot;100%&quot;});\n",
       "\n",
       "        \n",
       "            \n",
       "                var html_31c1997e13ce636b4433b778e5b28ed8 = $(`&lt;div id=&quot;html_31c1997e13ce636b4433b778e5b28ed8&quot; style=&quot;width: 100.0%; height: 100.0%;&quot;&gt;Wittenberg&lt;/div&gt;`)[0];\n",
       "                popup_418e6888551d0e71901fef6ea59273e4.setContent(html_31c1997e13ce636b4433b778e5b28ed8);\n",
       "            \n",
       "        \n",
       "\n",
       "        marker_be356c2e40d3459ef816af186d4597e8.bindPopup(popup_418e6888551d0e71901fef6ea59273e4)\n",
       "        ;\n",
       "\n",
       "        \n",
       "    \n",
       "    \n",
       "            var marker_d6c1dd23ad33e44a1c880f6366a80441 = L.marker(\n",
       "                [50.839966, 9.979606],\n",
       "                {}\n",
       "            ).addTo(map_1c78649969e7ed3a1e905c81258355c8);\n",
       "        \n",
       "    \n",
       "            var icon_0f3ea17679dfc5ed6e0a7445a03e9567 = L.AwesomeMarkers.icon(\n",
       "                {&quot;extraClasses&quot;: &quot;fa-rotate-0&quot;, &quot;icon&quot;: &quot;info-sign&quot;, &quot;iconColor&quot;: &quot;white&quot;, &quot;markerColor&quot;: &quot;green&quot;, &quot;prefix&quot;: &quot;glyphicon&quot;}\n",
       "            );\n",
       "            marker_d6c1dd23ad33e44a1c880f6366a80441.setIcon(icon_0f3ea17679dfc5ed6e0a7445a03e9567);\n",
       "        \n",
       "    \n",
       "        var popup_1e3691f139220a35d772146e5e8e69c1 = L.popup({&quot;maxWidth&quot;: &quot;100%&quot;});\n",
       "\n",
       "        \n",
       "            \n",
       "                var html_bf6a266b6fefd16e6732ab06f028385a = $(`&lt;div id=&quot;html_bf6a266b6fefd16e6732ab06f028385a&quot; style=&quot;width: 100.0%; height: 100.0%;&quot;&gt;Unterbreizbach&lt;/div&gt;`)[0];\n",
       "                popup_1e3691f139220a35d772146e5e8e69c1.setContent(html_bf6a266b6fefd16e6732ab06f028385a);\n",
       "            \n",
       "        \n",
       "\n",
       "        marker_d6c1dd23ad33e44a1c880f6366a80441.bindPopup(popup_1e3691f139220a35d772146e5e8e69c1)\n",
       "        ;\n",
       "\n",
       "        \n",
       "    \n",
       "    \n",
       "            var marker_957e28e7c35e4aba859f31ec49114713 = L.marker(\n",
       "                [51.073432, 6.841337],\n",
       "                {}\n",
       "            ).addTo(map_1c78649969e7ed3a1e905c81258355c8);\n",
       "        \n",
       "    \n",
       "            var icon_95f094b62f1d380e65a332deb9201423 = L.AwesomeMarkers.icon(\n",
       "                {&quot;extraClasses&quot;: &quot;fa-rotate-0&quot;, &quot;icon&quot;: &quot;info-sign&quot;, &quot;iconColor&quot;: &quot;white&quot;, &quot;markerColor&quot;: &quot;green&quot;, &quot;prefix&quot;: &quot;glyphicon&quot;}\n",
       "            );\n",
       "            marker_957e28e7c35e4aba859f31ec49114713.setIcon(icon_95f094b62f1d380e65a332deb9201423);\n",
       "        \n",
       "    \n",
       "        var popup_a7853ee065fa225e1a588199bada0422 = L.popup({&quot;maxWidth&quot;: &quot;100%&quot;});\n",
       "\n",
       "        \n",
       "            \n",
       "                var html_0d1573f30583eb07b9b2cc5c28f75355 = $(`&lt;div id=&quot;html_0d1573f30583eb07b9b2cc5c28f75355&quot; style=&quot;width: 100.0%; height: 100.0%;&quot;&gt;Dormagen&lt;/div&gt;`)[0];\n",
       "                popup_a7853ee065fa225e1a588199bada0422.setContent(html_0d1573f30583eb07b9b2cc5c28f75355);\n",
       "            \n",
       "        \n",
       "\n",
       "        marker_957e28e7c35e4aba859f31ec49114713.bindPopup(popup_a7853ee065fa225e1a588199bada0422)\n",
       "        ;\n",
       "\n",
       "        \n",
       "    \n",
       "    \n",
       "            var marker_e101345799b3ce7b6bb853f67be1e762 = L.marker(\n",
       "                [50.860153, 6.870302],\n",
       "                {}\n",
       "            ).addTo(map_1c78649969e7ed3a1e905c81258355c8);\n",
       "        \n",
       "    \n",
       "            var icon_6d573cf3c1dfd9bf522ee26906d3baf7 = L.AwesomeMarkers.icon(\n",
       "                {&quot;extraClasses&quot;: &quot;fa-rotate-0&quot;, &quot;icon&quot;: &quot;info-sign&quot;, &quot;iconColor&quot;: &quot;white&quot;, &quot;markerColor&quot;: &quot;red&quot;, &quot;prefix&quot;: &quot;glyphicon&quot;}\n",
       "            );\n",
       "            marker_e101345799b3ce7b6bb853f67be1e762.setIcon(icon_6d573cf3c1dfd9bf522ee26906d3baf7);\n",
       "        \n",
       "    \n",
       "        var popup_69e27c0220bb382e954341731dc76031 = L.popup({&quot;maxWidth&quot;: &quot;100%&quot;});\n",
       "\n",
       "        \n",
       "            \n",
       "                var html_c85f1837b7495e03a2af9ec4d32e3dcb = $(`&lt;div id=&quot;html_c85f1837b7495e03a2af9ec4d32e3dcb&quot; style=&quot;width: 100.0%; height: 100.0%;&quot;&gt;Chemiepark Knapsack&lt;/div&gt;`)[0];\n",
       "                popup_69e27c0220bb382e954341731dc76031.setContent(html_c85f1837b7495e03a2af9ec4d32e3dcb);\n",
       "            \n",
       "        \n",
       "\n",
       "        marker_e101345799b3ce7b6bb853f67be1e762.bindPopup(popup_69e27c0220bb382e954341731dc76031)\n",
       "        ;\n",
       "\n",
       "        \n",
       "    \n",
       "    \n",
       "            var marker_e854869659b9fa71517ccc18d6f863aa = L.marker(\n",
       "                [50.092835, 8.531066],\n",
       "                {}\n",
       "            ).addTo(map_1c78649969e7ed3a1e905c81258355c8);\n",
       "        \n",
       "    \n",
       "            var icon_d1f66cb58746bc91987889a480d1b260 = L.AwesomeMarkers.icon(\n",
       "                {&quot;extraClasses&quot;: &quot;fa-rotate-0&quot;, &quot;icon&quot;: &quot;info-sign&quot;, &quot;iconColor&quot;: &quot;white&quot;, &quot;markerColor&quot;: &quot;green&quot;, &quot;prefix&quot;: &quot;glyphicon&quot;}\n",
       "            );\n",
       "            marker_e854869659b9fa71517ccc18d6f863aa.setIcon(icon_d1f66cb58746bc91987889a480d1b260);\n",
       "        \n",
       "    \n",
       "        var popup_44fb49e032f9c35fe87c6d839bb41ac3 = L.popup({&quot;maxWidth&quot;: &quot;100%&quot;});\n",
       "\n",
       "        \n",
       "            \n",
       "                var html_a627d8f027dbe37775079dc1168269d7 = $(`&lt;div id=&quot;html_a627d8f027dbe37775079dc1168269d7&quot; style=&quot;width: 100.0%; height: 100.0%;&quot;&gt;Industriepark Höchst&lt;/div&gt;`)[0];\n",
       "                popup_44fb49e032f9c35fe87c6d839bb41ac3.setContent(html_a627d8f027dbe37775079dc1168269d7);\n",
       "            \n",
       "        \n",
       "\n",
       "        marker_e854869659b9fa71517ccc18d6f863aa.bindPopup(popup_44fb49e032f9c35fe87c6d839bb41ac3)\n",
       "        ;\n",
       "\n",
       "        \n",
       "    \n",
       "    \n",
       "            tile_layer_9442a67fcec721829292203b7be2b06a.addTo(map_1c78649969e7ed3a1e905c81258355c8);\n",
       "        \n",
       "    \n",
       "            image_overlay_e5cd0a5475b492ba60065a0a2831c381.addTo(map_1c78649969e7ed3a1e905c81258355c8);\n",
       "        \n",
       "&lt;/script&gt;\n",
       "&lt;/html&gt;\" style=\"position:absolute;width:100%;height:100%;left:0;top:0;border:none !important;\" allowfullscreen webkitallowfullscreen mozallowfullscreen></iframe></div></div>"
      ],
      "text/plain": [
       "<folium.folium.Map at 0x756ba40e83e0>"
      ]
     },
     "execution_count": 9,
     "metadata": {},
     "output_type": "execute_result"
    }
   ],
   "source": [
    "m = country.plot(show_hit_regions=True, show_industrial_areas=False, show_custom_locations=True)\n",
    "m"
   ]
  },
  {
   "cell_type": "markdown",
   "metadata": {},
   "source": [
    "## (2) Multiple countries\n",
    "Once you're confident that everything works for a single country, you can also run the model for multiple countries."
   ]
  },
  {
   "cell_type": "code",
   "execution_count": null,
   "metadata": {},
   "outputs": [],
   "source": [
    "# This is the SORT scenario of Toon et al. 2008\n",
    "scenario = {\n",
    "    # \"France\": 200 * [100],\n",
    "    # \"United Kingdom\": 200 * [100],\n",
    "    \"Germany\": 200 * [100],\n",
    "    # \"India\": 200 * [100],\n",
    "    # \"Pakistan\": 200 * [100],\n",
    "    # \"Japan\": 200 * [100],\n",
    "    # \"United States of America\": 1000 * [100],\n",
    "    # \"China\": 1100 * [100],\n",
    "    # \"Russia\": 1100 * [100],\n",
    "}"
   ]
  },
  {
   "cell_type": "code",
   "execution_count": null,
   "metadata": {},
   "outputs": [],
   "source": [
    "run_many_countries(scenario, degrade=False, degrade_factor=3, targeting_policy=\"max_fatality_non_overlapping\")"
   ]
  },
  {
   "cell_type": "markdown",
   "metadata": {},
   "source": [
    "Let's plot the results"
   ]
  },
  {
   "cell_type": "code",
   "execution_count": 3,
   "metadata": {},
   "outputs": [
    {
     "data": {
      "image/png": "[encoded data removed]",
      "text/plain": [
       "<Figure size 600x600 with 1 Axes>"
      ]
     },
     "metadata": {},
     "output_type": "display_data"
    }
   ],
   "source": [
    "# Read the CSV file\n",
    "df = pd.read_csv(\"../results/Toon2008_SORT_revised_burn_radius.csv\")\n",
    "\n",
    "# Create a square plot\n",
    "fig, ax = plt.subplots(figsize=(4, 4))\n",
    "\n",
    "# Create the scatter plot\n",
    "scatter = ax.scatter(df[\"population_loss_pct\"], df[\"industry_destroyed_pct\"])\n",
    "\n",
    "# Add labels for each point\n",
    "for i, txt in enumerate(df[\"iso3\"]):\n",
    "    ax.annotate(\n",
    "        txt,\n",
    "        (df[\"population_loss_pct\"][i], df[\"industry_destroyed_pct\"][i]),\n",
    "        xytext=(5, 5),\n",
    "        textcoords=\"offset points\",\n",
    "    )\n",
    "\n",
    "# Add labels and title\n",
    "ax.set_xlabel(\"Population Loss (%)\")\n",
    "ax.set_ylabel(\"Industry Destroyed (%)\")\n",
    "\n",
    "# Add a diagonal line\n",
    "max_value = 40\n",
    "ax.plot([0, max_value], [0, max_value], \"--\", alpha=0.5, color=\"grey\")\n",
    "plt.xlim(0, 40)\n",
    "plt.ylim(0, 40)\n",
    "\n",
    "# gridline only every 10\n",
    "ax.set_xticks(np.arange(0, 50, 10))\n",
    "ax.set_yticks(np.arange(0, 50, 10))\n",
    "\n",
    "# Display the plot\n",
    "plt.tight_layout()\n",
    "plt.show()"
   ]
  },
  {
   "cell_type": "markdown",
   "metadata": {},
   "source": [
    "## (3) Impact of multiple hits with finite accuracy\n",
    "Here's a more advanced use case. We want to know what's the difference in terms of fatalities if we target many weapons at the same spot (but with some uncertainty) vs using the same weapons to target different locations in the same city. For this we use higher-resolution data. We use NYC as an example."
   ]
  },
  {
   "cell_type": "code",
   "execution_count": null,
   "metadata": {},
   "outputs": [],
   "source": [
    "region = Country(\n",
    "    country_name=\"United States of America\",\n",
    "    landscan_year=2021,\n",
    "    degrade=False,\n",
    "    use_HD=True,\n",
    "    subregion=[-74.259090, -73.251740, 40.477399, 41.024100]\n",
    ")\n",
    "region_clean = copy.deepcopy(region)"
   ]
  },
  {
   "cell_type": "code",
   "execution_count": null,
   "metadata": {},
   "outputs": [],
   "source": [
    "number_of_weapons = 1\n",
    "yield_of_weapons = 15\n",
    "CEP = 1000"
   ]
  },
  {
   "cell_type": "markdown",
   "metadata": {},
   "source": [
    "**Case 1**: different targets, non-overlapping"
   ]
  },
  {
   "cell_type": "code",
   "execution_count": null,
   "metadata": {},
   "outputs": [],
   "source": [
    "region = copy.deepcopy(region_clean)\n",
    "region.attack_max_fatality(arsenal=number_of_weapons*[yield_of_weapons], include_injuries=False, non_overlapping=True)\n",
    "print(region.get_total_fatalities())\n",
    "print(region.target_list)\n",
    "# m = region.plot(show_hit_regions=True)\n",
    "# m"
   ]
  },
  {
   "cell_type": "markdown",
   "metadata": {},
   "source": [
    "**Case 2**: different targets, overlapping allowed"
   ]
  },
  {
   "cell_type": "code",
   "execution_count": null,
   "metadata": {},
   "outputs": [],
   "source": [
    "region = copy.deepcopy(region_clean)\n",
    "region.attack_max_fatality(arsenal=number_of_weapons*[yield_of_weapons], include_injuries=False, non_overlapping=False)\n",
    "print(region.get_total_fatalities())\n",
    "# m = region.plot(show_hit_regions=True)\n",
    "# m"
   ]
  },
  {
   "cell_type": "markdown",
   "metadata": {},
   "source": [
    "**Case 3**: all weapons targeted at the same high-value target"
   ]
  },
  {
   "cell_type": "code",
   "execution_count": null,
   "metadata": {},
   "outputs": [],
   "source": [
    "fatalities_list = []\n",
    "for _ in range(10):\n",
    "    region = copy.deepcopy(region_clean)\n",
    "    for i in range(number_of_weapons):\n",
    "        region.attack_specific_target(\n",
    "            lat=40.74721112908017,\n",
    "            lon=-73.98510350648793,\n",
    "            yield_kt=yield_of_weapons,\n",
    "            CEP=CEP,\n",
    "        )\n",
    "    fatalities_list.append(region.get_total_fatalities())\n",
    "\n",
    "mean_fatalities = sum(fatalities_list) / len(fatalities_list)\n",
    "confidence_interval = np.percentile(fatalities_list, [5, 95])\n",
    "print(\"Mean Fatalities:\", mean_fatalities)\n",
    "print(\"90% Confidence Interval of Fatalities:\", confidence_interval)\n",
    "# m = region.plot(show_hit_regions=True)\n",
    "# m"
   ]
  },
  {
   "cell_type": "markdown",
   "metadata": {},
   "source": [
    "\n",
    "Fatalities in millions\n",
    "| Weapons  | Max fatality (overlap forbidden) | Max fatality (overlap allowed) | Max value target (CEP = 200m) | Max value target (CEP = 1000m) |\n",
    "|----------|----------|----------|----------|----------|\n",
    "| 1 x 100kt| 2.37 | 2.37 | 2.36-2.37 | 2.11-2.36 |\n",
    "| 2 x 100kt| 2.97 | 3.20 | 2.93-2.94 | 2.88-2.99 |\n",
    "| 3 x 100kt| 3.54 | 3.89 | 3.22-3.26 | 3.18-3.34 |\n",
    "| 4 x 100kt| 3.99 | 4.51 | 3.42-3.44 |3.39-3.55 |\n",
    "| 1 x 15kt | 1.13 | 1.13 | 0.99-1.08 | 0.68-1.04 |\n",
    "| 2 x 15kt | 1.46 | 1.60 | 1.37-1.42 | 0.90-1.34 |\n",
    "| 3 x 15kt | 1.67 | 1.92 | 1.55-1.58| 1.29-1.66 |\n",
    "| 4 x 15kt | 1.84  | 2.19 | 1.65-1.68  | 1.53-1.83 |\n"
   ]
  },
  {
   "cell_type": "code",
   "execution_count": null,
   "metadata": {},
   "outputs": [],
   "source": []
  }
 ],
 "metadata": {
  "kernelspec": {
   "display_name": "Population-Loss-NW",
   "language": "python",
   "name": "python3"
  },
  "language_info": {
   "codemirror_mode": {
    "name": "ipython",
    "version": 3
   },
   "file_extension": ".py",
   "mimetype": "text/x-python",
   "name": "python",
   "nbconvert_exporter": "python",
   "pygments_lexer": "ipython3",
   "version": "3.12.3"
  }
 },
 "nbformat": 4,
 "nbformat_minor": 2
}
