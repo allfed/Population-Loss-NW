{
 "cells": [
  {
   "cell_type": "markdown",
   "metadata": {},
   "source": [
    "# Population loss in the immediate aftermath of a nuclear attack"
   ]
  },
  {
   "cell_type": "code",
   "execution_count": null,
   "metadata": {},
   "outputs": [],
   "source": [
    "%load_ext autoreload\n",
    "%autoreload 2\n",
    "\n",
    "import sys\n",
    "sys.path.append(\"../src\")\n",
    "from main import Country, run_many_countries"
   ]
  },
  {
   "cell_type": "markdown",
   "metadata": {},
   "source": [
    "## Single country\n",
    "Use this to simulate an attack on a single country and visualize the results on an interactive map."
   ]
  },
  {
   "cell_type": "code",
   "execution_count": null,
   "metadata": {},
   "outputs": [],
   "source": [
    "# country that is attacked\n",
    "country_name = \"Germany\" \n",
    "\n",
    "# nuclear arsenal with which the country is attacked (number of warheads and yield in kt)\n",
    "arsenal = 50*[100] \n",
    "# arsenal = 50*[15]"
   ]
  },
  {
   "cell_type": "code",
   "execution_count": null,
   "metadata": {},
   "outputs": [],
   "source": [
    "country = Country(country_name, landscan_year=2022, degrade=False, degrade_factor=1)\n",
    "\n",
    "# sanity check - this corresponds to the population of the selected country\n",
    "country.data.sum() "
   ]
  },
  {
   "cell_type": "code",
   "execution_count": null,
   "metadata": {},
   "outputs": [],
   "source": [
    "# country.attack_max_fatality_non_overlapping(arsenal, include_injuries=False)\n",
    "country.attack_random_non_overlapping(arsenal, include_injuries=False)"
   ]
  },
  {
   "cell_type": "code",
   "execution_count": null,
   "metadata": {},
   "outputs": [],
   "source": [
    "country.get_total_fatalities()"
   ]
  },
  {
   "cell_type": "code",
   "execution_count": null,
   "metadata": {},
   "outputs": [],
   "source": [
    "m = country.plot(show_hit_regions=True, show_population_density=False)\n",
    "m"
   ]
  },
  {
   "cell_type": "markdown",
   "metadata": {},
   "source": [
    "## (2) Multiple countries\n",
    "Once you're confident that everything works for a single country, you can also run the model for multiple countries."
   ]
  },
  {
   "cell_type": "code",
   "execution_count": null,
   "metadata": {},
   "outputs": [],
   "source": [
    "# This is the SORT scenario of Toon et al. 2008\n",
    "scenario = {\n",
    "    \"France\": 200 * [100],\n",
    "    \"United Kingdom\": 200 * [100],\n",
    "    \"Germany\": 200 * [100],\n",
    "    \"India\": 200 * [100],\n",
    "    \"Pakistan\": 200 * [100],\n",
    "    \"Japan\": 200 * [100],\n",
    "    \"United States of America\": 1000 * [100],\n",
    "    \"China\": 1100 * [100],\n",
    "    \"Russia\": 1100 * [100],\n",
    "}"
   ]
  },
  {
   "cell_type": "code",
   "execution_count": null,
   "metadata": {},
   "outputs": [],
   "source": [
    "run_many_countries(scenario, degrade=False, degrade_factor=3, targeting_policy=\"max_fatality_non_overlapping\")"
   ]
  },
  {
   "cell_type": "code",
   "execution_count": null,
   "metadata": {},
   "outputs": [],
   "source": []
  }
 ],
 "metadata": {
  "kernelspec": {
   "display_name": "Population-Loss-NW",
   "language": "python",
   "name": "python3"
  },
  "language_info": {
   "codemirror_mode": {
    "name": "ipython",
    "version": 3
   },
   "file_extension": ".py",
   "mimetype": "text/x-python",
   "name": "python",
   "nbconvert_exporter": "python",
   "pygments_lexer": "ipython3",
   "version": "3.12.3"
  }
 },
 "nbformat": 4,
 "nbformat_minor": 2
}
