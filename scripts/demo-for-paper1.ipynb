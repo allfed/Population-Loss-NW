{
 "cells": [
  {
   "cell_type": "markdown",
   "metadata": {},
   "source": [
    "# Figure to illustrate methodology in Paper 1"
   ]
  },
  {
   "cell_type": "code",
   "execution_count": 72,
   "metadata": {},
   "outputs": [
    {
     "name": "stdout",
     "output_type": "stream",
     "text": [
      "The autoreload extension is already loaded. To reload it, use:\n",
      "  %reload_ext autoreload\n"
     ]
    }
   ],
   "source": [
    "%load_ext autoreload\n",
    "%autoreload 2\n",
    "\n",
    "import sys\n",
    "sys.path.append(\"../src\")\n",
    "from main import Country, run_many_countries\n",
    "import copy\n",
    "import numpy as np\n",
    "import pandas as pd\n",
    "import matplotlib.pyplot as plt\n",
    "\n",
    "plt.style.use(\"https://raw.githubusercontent.com/allfed/ALLFED-matplotlib-style-sheet/main/ALLFED.mplstyle\")"
   ]
  },
  {
   "cell_type": "code",
   "execution_count": 73,
   "metadata": {},
   "outputs": [],
   "source": [
    "country_name = \"Netherlands\" "
   ]
  },
  {
   "cell_type": "code",
   "execution_count": 74,
   "metadata": {},
   "outputs": [
    {
     "data": {
      "text/plain": [
       "17266757"
      ]
     },
     "execution_count": 74,
     "metadata": {},
     "output_type": "execute_result"
    }
   ],
   "source": [
    "country = Country(\n",
    "    country_name,\n",
    "    landscan_year=2022,\n",
    "    degrade=False,\n",
    "    degrade_factor=1,\n",
    "    burn_radius_prescription=\"default\",\n",
    "    kill_radius_prescription=\"default\",\n",
    "    fallout_grid_factor=1,\n",
    ")\n",
    "\n",
    "# sanity check - this corresponds to the population of the selected country\n",
    "country.data.sum()"
   ]
  },
  {
   "cell_type": "code",
   "execution_count": 75,
   "metadata": {},
   "outputs": [],
   "source": [
    "country.attack_specific_target(lat=51.89, lon=4.36, yield_kt=300)\n",
    "country.yields = np.array([100])"
   ]
  },
  {
   "cell_type": "code",
   "execution_count": 76,
   "metadata": {},
   "outputs": [
    {
     "name": "stdout",
     "output_type": "stream",
     "text": [
      "Publication-quality map saved to ../images/paper1-demo-Rotterdam.png\n"
     ]
    }
   ],
   "source": [
    "country.plot_publication_quality_map(show_burn_regions=True, show_industrial_areas=True, lat_range=0.2, lon_range=0.4, output_path=\"../images/paper1-demo-Rotterdam.png\")"
   ]
  }
 ],
 "metadata": {
  "kernelspec": {
   "display_name": "Population-Loss-NW",
   "language": "python",
   "name": "python3"
  },
  "language_info": {
   "codemirror_mode": {
    "name": "ipython",
    "version": 3
   },
   "file_extension": ".py",
   "mimetype": "text/x-python",
   "name": "python",
   "nbconvert_exporter": "python",
   "pygments_lexer": "ipython3",
   "version": "3.12.3"
  }
 },
 "nbformat": 4,
 "nbformat_minor": 2
}
